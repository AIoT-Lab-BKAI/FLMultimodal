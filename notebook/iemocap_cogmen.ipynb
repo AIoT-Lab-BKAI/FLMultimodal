{
 "cells": [
  {
   "cell_type": "code",
   "execution_count": 3,
   "metadata": {},
   "outputs": [],
   "source": [
    "import torch"
   ]
  },
  {
   "cell_type": "code",
   "execution_count": 14,
   "metadata": {},
   "outputs": [
    {
     "name": "stdout",
     "output_type": "stream",
     "text": [
      "torch.Size([943, 3, 768]) torch.Size([943]) torch.Size([3600])\n"
     ]
    },
    {
     "data": {
      "text/plain": [
       "tensor([[[-2.4279e-01,  1.0421e-02,  3.2388e-02,  ..., -4.3526e-02,\n",
       "           4.4584e-02,  2.4146e-01],\n",
       "         [ 6.0392e-02,  0.0000e+00,  0.0000e+00,  ...,  0.0000e+00,\n",
       "           0.0000e+00,  0.0000e+00],\n",
       "         [ 0.0000e+00,  0.0000e+00,  0.0000e+00,  ...,  0.0000e+00,\n",
       "           0.0000e+00,  0.0000e+00]],\n",
       "\n",
       "        [[ 1.2798e-01,  2.1956e-02, -2.6775e-03,  ...,  3.5638e-01,\n",
       "           1.7223e-02, -3.7845e-01],\n",
       "         [ 1.0569e-01,  0.0000e+00,  0.0000e+00,  ...,  0.0000e+00,\n",
       "           0.0000e+00,  0.0000e+00],\n",
       "         [ 0.0000e+00,  0.0000e+00,  0.0000e+00,  ...,  0.0000e+00,\n",
       "           0.0000e+00,  0.0000e+00]],\n",
       "\n",
       "        [[-2.1791e-01,  3.6609e-01,  1.3068e-01,  ...,  9.8587e-02,\n",
       "          -2.2912e-01,  2.2227e-01],\n",
       "         [ 3.3951e-02,  0.0000e+00,  0.0000e+00,  ...,  0.0000e+00,\n",
       "           0.0000e+00,  0.0000e+00],\n",
       "         [ 0.0000e+00,  0.0000e+00,  0.0000e+00,  ...,  0.0000e+00,\n",
       "           0.0000e+00,  0.0000e+00]],\n",
       "\n",
       "        ...,\n",
       "\n",
       "        [[ 5.4607e-02, -4.8944e-02,  2.2184e-02,  ...,  2.7996e-01,\n",
       "           2.1662e-01, -4.0516e-02],\n",
       "         [ 3.7885e-01,  0.0000e+00,  0.0000e+00,  ...,  0.0000e+00,\n",
       "           0.0000e+00,  0.0000e+00],\n",
       "         [ 2.7005e-04,  3.8683e-03,  0.0000e+00,  ...,  0.0000e+00,\n",
       "           0.0000e+00,  0.0000e+00]],\n",
       "\n",
       "        [[ 8.8331e-02,  2.7378e-01,  1.0439e-01,  ..., -3.2363e-02,\n",
       "          -1.5832e-01, -2.1143e-01],\n",
       "         [ 9.8253e-02,  0.0000e+00,  0.0000e+00,  ...,  0.0000e+00,\n",
       "           0.0000e+00,  0.0000e+00],\n",
       "         [ 6.3058e-03,  0.0000e+00,  0.0000e+00,  ...,  0.0000e+00,\n",
       "           0.0000e+00,  0.0000e+00]],\n",
       "\n",
       "        [[-6.3178e-02, -4.2792e-02,  1.3524e-01,  ..., -9.2418e-02,\n",
       "          -5.8089e-02,  4.2714e-03],\n",
       "         [ 3.2548e-01,  0.0000e+00,  0.0000e+00,  ...,  0.0000e+00,\n",
       "           0.0000e+00,  0.0000e+00],\n",
       "         [ 0.0000e+00,  0.0000e+00,  0.0000e+00,  ...,  0.0000e+00,\n",
       "           0.0000e+00,  0.0000e+00]]])"
      ]
     },
     "execution_count": 14,
     "metadata": {},
     "output_type": "execute_result"
    }
   ],
   "source": [
    "x_test = torch.load(\"../benchmark/RAW_DATA/IEMOCAP_COGMEN/x_test.pt\")\n",
    "y_train = torch.load(\"../benchmark/RAW_DATA/IEMOCAP_COGMEN/y_train.pt\")\n",
    "y_test = torch.load(\"../benchmark/RAW_DATA/IEMOCAP_COGMEN/y_test.pt\")\n",
    "\n",
    "print(x_test.shape, y_test.shape, y_train.shape)\n",
    "x_train = torch.load(\"../benchmark/RAW_DATA/IEMOCAP_COGMEN/x_train.pt\")\n",
    "\n",
    "x_train"
   ]
  }
 ],
 "metadata": {
  "kernelspec": {
   "display_name": "longnd",
   "language": "python",
   "name": "python3"
  },
  "language_info": {
   "codemirror_mode": {
    "name": "ipython",
    "version": 3
   },
   "file_extension": ".py",
   "mimetype": "text/x-python",
   "name": "python",
   "nbconvert_exporter": "python",
   "pygments_lexer": "ipython3",
   "version": "3.7.11"
  }
 },
 "nbformat": 4,
 "nbformat_minor": 2
}
