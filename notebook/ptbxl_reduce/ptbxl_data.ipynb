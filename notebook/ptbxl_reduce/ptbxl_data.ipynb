{
 "cells": [
  {
   "cell_type": "code",
   "execution_count": 1,
   "metadata": {},
   "outputs": [],
   "source": [
    "import scipy.io\n",
    "import os\n",
    "import numpy as np\n",
    "import random\n",
    "import json\n",
    "from numpy import *\n",
    "import torch\n",
    "from collections import Counter"
   ]
  },
  {
   "cell_type": "code",
   "execution_count": 2,
   "metadata": {},
   "outputs": [
    {
     "data": {
      "text/plain": [
       "((3170, 1000, 12), (793, 1000, 12))"
      ]
     },
     "execution_count": 2,
     "metadata": {},
     "output_type": "execute_result"
    }
   ],
   "source": [
    "# Read again processed files\n",
    "x_train = np.load(\"../benchmark/RAW_DATA/PTBXL_REDUCE/x_train.npy\", allow_pickle=True)\n",
    "y_train = np.load(\"../benchmark/RAW_DATA/PTBXL_REDUCE/y_train.npy\", allow_pickle=True)\n",
    "x_test = np.load(\"../benchmark/RAW_DATA/PTBXL_REDUCE/x_test.npy\", allow_pickle=True)\n",
    "y_test = np.load(\"../benchmark/RAW_DATA/PTBXL_REDUCE/y_test.npy\", allow_pickle=True)\n",
    "\n",
    "x_train.shape, x_test.shape"
   ]
  },
  {
   "cell_type": "code",
   "execution_count": 3,
   "metadata": {},
   "outputs": [
    {
     "data": {
      "text/plain": [
       "(array([1, 5, 7, 7, 5, 6, 7, 1, 8, 5]), array([5, 5, 7, 6, 7, 5, 8, 8, 1, 1]))"
      ]
     },
     "execution_count": 3,
     "metadata": {},
     "output_type": "execute_result"
    }
   ],
   "source": [
    "y_train[:10], y_test[:10]"
   ]
  },
  {
   "cell_type": "code",
   "execution_count": 4,
   "metadata": {},
   "outputs": [
    {
     "data": {
      "text/plain": [
       "Counter({1: 596, 5: 613, 7: 800, 6: 505, 8: 656})"
      ]
     },
     "execution_count": 4,
     "metadata": {},
     "output_type": "execute_result"
    }
   ],
   "source": [
    "Counter(y_train)"
   ]
  },
  {
   "cell_type": "code",
   "execution_count": 5,
   "metadata": {},
   "outputs": [
    {
     "data": {
      "text/plain": [
       "Counter({5: 154, 7: 200, 6: 126, 8: 164, 1: 149})"
      ]
     },
     "execution_count": 5,
     "metadata": {},
     "output_type": "execute_result"
    }
   ],
   "source": [
    "Counter(y_test)"
   ]
  },
  {
   "cell_type": "code",
   "execution_count": 5,
   "metadata": {},
   "outputs": [
    {
     "data": {
      "text/plain": [
       "(array([1, 5, 6, 7, 8]), array([1, 5, 6, 7, 8]))"
      ]
     },
     "execution_count": 5,
     "metadata": {},
     "output_type": "execute_result"
    }
   ],
   "source": [
    "np.unique(y_train), np.unique(y_test)"
   ]
  },
  {
   "cell_type": "code",
   "execution_count": 6,
   "metadata": {},
   "outputs": [
    {
     "data": {
      "text/plain": [
       "array([1, 5, 7, ..., 8, 1, 5])"
      ]
     },
     "execution_count": 6,
     "metadata": {},
     "output_type": "execute_result"
    }
   ],
   "source": [
    "y_train"
   ]
  },
  {
   "cell_type": "code",
   "execution_count": 7,
   "metadata": {},
   "outputs": [],
   "source": [
    "mat = scipy.io.loadmat('../benchmark/RAW_DATA/VEHICLE/vehicle.mat')"
   ]
  },
  {
   "cell_type": "code",
   "execution_count": 8,
   "metadata": {},
   "outputs": [
    {
     "data": {
      "text/plain": [
       "((23, 1), (23, 1), (2578, 100), (2578, 1))"
      ]
     },
     "execution_count": 8,
     "metadata": {},
     "output_type": "execute_result"
    }
   ],
   "source": [
    "mat = scipy.io.loadmat('../benchmark/RAW_DATA/VEHICLE/vehicle.mat')\n",
    "raw_x, raw_y = mat['X'], mat['Y']\n",
    "raw_x.shape, raw_y.shape, raw_x[0][0].shape, raw_y[0][0].shape"
   ]
  },
  {
   "cell_type": "code",
   "execution_count": 9,
   "metadata": {},
   "outputs": [
    {
     "data": {
      "text/plain": [
       "(15, 100)"
      ]
     },
     "execution_count": 9,
     "metadata": {},
     "output_type": "execute_result"
    }
   ],
   "source": [
    "raw_x[0][0][:15,:].shape"
   ]
  },
  {
   "cell_type": "code",
   "execution_count": 10,
   "metadata": {},
   "outputs": [],
   "source": [
    "NUM_USER = 23\n",
    "def preprocess(x):\n",
    "    means = np.mean(x, axis=0)\n",
    "    std = np.std(x, axis=0)\n",
    "    \n",
    "    x = (x - means) * 1.0 / std\n",
    "    where_are_NaNs = isnan(x)\n",
    "    x[where_are_NaNs] = 0\n",
    "    return x\n",
    "\n",
    "def generate_data():\n",
    "    # X = np.zeros((NUM_USER,100))\n",
    "    # y = np.zeros((NUM_USER,100))\n",
    "    # mat = scipy.io.loadmat('../benchmark/RAW_DATA/VEHICLE/data.mat')\n",
    "    # raw_x, raw_y = mat['X'], mat['Y']\n",
    "    # print(\"number of users:\", len(raw_x), len(raw_y))\n",
    "    # print(\"number of features:\", len(raw_x[0][0][0]))\n",
    "\n",
    "    X_train = []\n",
    "    Y_train = []\n",
    "    X_test = []\n",
    "    Y_test = []\n",
    "    for i in range(NUM_USER):\n",
    "        print(\"{}-th user has {} samples\".format(i, len(raw_x[i][0])))\n",
    "        \n",
    "        #print(len(raw_x[i][0]) * 0.75)\n",
    "        x_processed = preprocess(raw_x[i][0])\n",
    "        train_samples = int(x_processed.shape[0]*0.75)\n",
    "        x_train = x_processed[:train_samples,:]\n",
    "        x_test = x_processed[train_samples,:]\n",
    "        X_train.append(x_train)\n",
    "        X_test.append(x_test)\n",
    "        y_temp = raw_y[i][0]\n",
    "        y_train = y_temp[:train_samples,:]\n",
    "        y_test = y_temp[train_samples,:]\n",
    "        Y_train.append(y_train)\n",
    "        Y_test.append(y_test)\n",
    "        \n",
    "        num = 0\n",
    "        for j in range(len(raw_y[i][0])):\n",
    "            if raw_y[i][0][j] == 1:\n",
    "                num += 1\n",
    "        print(\"ratio, \", num * 1.0 / len(raw_y[i][0]))\n",
    "    # return np.array(X), np.array(y)\n",
    "    # np.save('../benchmark/RAW_DATA/VEHICLE/x_train.npy', np.array(X_train, dtype=object), allow_pickle=True)\n",
    "    # np.save('../benchmark/RAW_DATA/VEHICLE/x_test.npy', np.array(X_test, dtype=object), allow_pickle=True)\n",
    "    # np.save('../benchmark/RAW_DATA/VEHICLE/y_train.npy', np.array(Y_train, dtype=object), allow_pickle=True)\n",
    "    # np.save('../benchmark/RAW_DATA/VEHICLE/y_test.npy', np.array(Y_test, dtype=object), allow_pickle=True)\n",
    "    \n",
    "    return X_train, X_test, Y_train, Y_test"
   ]
  },
  {
   "cell_type": "code",
   "execution_count": 11,
   "metadata": {},
   "outputs": [
    {
     "name": "stdout",
     "output_type": "stream",
     "text": [
      "0-th user has 2578 samples\n",
      "ratio,  0.4972847168347556\n",
      "1-th user has 1511 samples\n",
      "ratio,  0.5208471211118465\n",
      "2-th user has 1519 samples\n",
      "ratio,  0.4911125740618828\n",
      "3-th user has 1425 samples\n",
      "ratio,  0.5333333333333333\n",
      "4-th user has 1375 samples\n",
      "ratio,  0.5367272727272727\n",
      "5-th user has 1164 samples\n",
      "ratio,  0.45962199312714774\n",
      "6-th user has 1683 samples\n",
      "ratio,  0.5282234105763518\n",
      "7-th user has 1735 samples\n",
      "ratio,  0.5291066282420749\n",
      "8-th user has 2000 samples\n",
      "ratio,  0.46\n",
      "9-th user has 1701 samples\n",
      "ratio,  0.5408583186360965\n",
      "10-th user has 1803 samples\n",
      "ratio,  0.5662784248474765\n",
      "11-th user has 1803 samples\n",
      "ratio,  0.5823627287853578\n",
      "12-th user has 1954 samples\n",
      "ratio,  0.5962128966223132\n",
      "13-th user has 2200 samples\n",
      "ratio,  0.5495454545454546\n",
      "14-th user has 2214 samples\n",
      "ratio,  0.526196928635953\n",
      "15-th user has 1914 samples\n",
      "ratio,  0.5057471264367817\n",
      "16-th user has 2068 samples\n",
      "ratio,  0.528046421663443\n",
      "17-th user has 1962 samples\n",
      "ratio,  0.4938837920489297\n",
      "18-th user has 2287 samples\n",
      "ratio,  0.525142107564495\n",
      "19-th user has 2002 samples\n",
      "ratio,  0.504995004995005\n",
      "20-th user has 2068 samples\n",
      "ratio,  0.5207930367504836\n",
      "21-th user has 2448 samples\n",
      "ratio,  0.5118464052287581\n",
      "22-th user has 2281 samples\n",
      "ratio,  0.5107409031126698\n"
     ]
    }
   ],
   "source": [
    "X1, X2, Y1, Y2 = generate_data()"
   ]
  },
  {
   "cell_type": "code",
   "execution_count": 12,
   "metadata": {},
   "outputs": [
    {
     "ename": "AttributeError",
     "evalue": "'list' object has no attribute 'shape'",
     "output_type": "error",
     "traceback": [
      "\u001b[0;31m---------------------------------------------------------------------------\u001b[0m",
      "\u001b[0;31mAttributeError\u001b[0m                            Traceback (most recent call last)",
      "Cell \u001b[0;32mIn[12], line 1\u001b[0m\n\u001b[0;32m----> 1\u001b[0m \u001b[43mX1\u001b[49m\u001b[38;5;241;43m.\u001b[39;49m\u001b[43mshape\u001b[49m, \u001b[38;5;28mlen\u001b[39m(X2)\n",
      "\u001b[0;31mAttributeError\u001b[0m: 'list' object has no attribute 'shape'"
     ]
    }
   ],
   "source": [
    "X1.shape, len(X2)"
   ]
  },
  {
   "cell_type": "code",
   "execution_count": null,
   "metadata": {},
   "outputs": [
    {
     "ename": "",
     "evalue": "",
     "output_type": "error",
     "traceback": [
      "\u001b[1;31mFailed to start the Kernel 'hungvv (Python 3.9.17)'. \n",
      "\u001b[1;31mView Jupyter <a href='command:jupyter.viewOutput'>log</a> for further details. Cannot find module './351.node.js'\n",
      "\u001b[1;31mRequire stack:\n",
      "\u001b[1;31m- /home/aiotlabws/.vscode-server/extensions/ms-toolsai.jupyter-2023.8.1002501831-linux-x64/out/extension.node.js\n",
      "\u001b[1;31m- /home/aiotlabws/.vscode-server/bin/fdb98833154679dbaa7af67a5a29fe19e55c2b73/out/vs/loader.js\n",
      "\u001b[1;31m- /home/aiotlabws/.vscode-server/bin/fdb98833154679dbaa7af67a5a29fe19e55c2b73/out/bootstrap-amd.js\n",
      "\u001b[1;31m- /home/aiotlabws/.vscode-server/bin/fdb98833154679dbaa7af67a5a29fe19e55c2b73/out/bootstrap-fork.js"
     ]
    }
   ],
   "source": [
    "np.array(X1).reshape(len(X1), X1[0].shape[0], X1[0].shape[1])"
   ]
  },
  {
   "cell_type": "code",
   "execution_count": null,
   "metadata": {},
   "outputs": [
    {
     "ename": "",
     "evalue": "",
     "output_type": "error",
     "traceback": [
      "\u001b[1;31mFailed to start the Kernel 'hungvv (Python 3.9.17)'. \n",
      "\u001b[1;31mView Jupyter <a href='command:jupyter.viewOutput'>log</a> for further details. Cannot find module './351.node.js'\n",
      "\u001b[1;31mRequire stack:\n",
      "\u001b[1;31m- /home/aiotlabws/.vscode-server/extensions/ms-toolsai.jupyter-2023.8.1002501831-linux-x64/out/extension.node.js\n",
      "\u001b[1;31m- /home/aiotlabws/.vscode-server/bin/fdb98833154679dbaa7af67a5a29fe19e55c2b73/out/vs/loader.js\n",
      "\u001b[1;31m- /home/aiotlabws/.vscode-server/bin/fdb98833154679dbaa7af67a5a29fe19e55c2b73/out/bootstrap-amd.js\n",
      "\u001b[1;31m- /home/aiotlabws/.vscode-server/bin/fdb98833154679dbaa7af67a5a29fe19e55c2b73/out/bootstrap-fork.js"
     ]
    }
   ],
   "source": [
    "X1[1].shape"
   ]
  },
  {
   "cell_type": "code",
   "execution_count": null,
   "metadata": {},
   "outputs": [
    {
     "ename": "",
     "evalue": "",
     "output_type": "error",
     "traceback": [
      "\u001b[1;31mFailed to start the Kernel 'hungvv (Python 3.9.17)'. \n",
      "\u001b[1;31mView Jupyter <a href='command:jupyter.viewOutput'>log</a> for further details. Cannot find module './351.node.js'\n",
      "\u001b[1;31mRequire stack:\n",
      "\u001b[1;31m- /home/aiotlabws/.vscode-server/extensions/ms-toolsai.jupyter-2023.8.1002501831-linux-x64/out/extension.node.js\n",
      "\u001b[1;31m- /home/aiotlabws/.vscode-server/bin/fdb98833154679dbaa7af67a5a29fe19e55c2b73/out/vs/loader.js\n",
      "\u001b[1;31m- /home/aiotlabws/.vscode-server/bin/fdb98833154679dbaa7af67a5a29fe19e55c2b73/out/bootstrap-amd.js\n",
      "\u001b[1;31m- /home/aiotlabws/.vscode-server/bin/fdb98833154679dbaa7af67a5a29fe19e55c2b73/out/bootstrap-fork.js"
     ]
    }
   ],
   "source": [
    "# all clients -> 1 file\n",
    "\n",
    "NUM_USER = 23\n",
    "def preprocess(x):\n",
    "    means = np.mean(x, axis=0)\n",
    "    std = np.std(x, axis=0)\n",
    "    \n",
    "    x = (x - means) * 1.0 / std\n",
    "    where_are_NaNs = isnan(x)\n",
    "    x[where_are_NaNs] = 0\n",
    "    return x\n",
    "\n",
    "def generate_data():\n",
    "    train_samples_each_client = np.zeros(NUM_USER,dtype=int)\n",
    "    test_samples = 0\n",
    "    preprocess_X = preprocess(raw_x[0][0])\n",
    "    train_samples = int(preprocess_X.shape[0]*0.75)\n",
    "    train_samples_each_client[0] = train_samples\n",
    "    test_samples += preprocess_X.shape[0] - train_samples\n",
    "    \n",
    "    X_train = preprocess_X[:train_samples,:]\n",
    "    X_test = preprocess_X[train_samples:, :]\n",
    "    Y_train = raw_y[0][0][:train_samples, :]\n",
    "    Y_test = raw_y[0][0][train_samples:, :]\n",
    "    \n",
    "    for i in range(1,NUM_USER):\n",
    "        x_processed = preprocess(raw_x[i][0])\n",
    "        \n",
    "        train_samples = int(x_processed.shape[0]*0.75)\n",
    "        train_samples_each_client[i] = train_samples\n",
    "        test_samples += x_processed.shape[0] - train_samples\n",
    "        \n",
    "        x_train = x_processed[:train_samples,:]\n",
    "        x_test = x_processed[train_samples:,:]\n",
    "        X_train = np.concatenate((X_train, x_train), axis=0)\n",
    "        # print(X_test.shape, x_test.shape)\n",
    "        X_test = np.concatenate((X_test, x_test), axis=0)\n",
    "        \n",
    "        y_temp = raw_y[i][0]\n",
    "        y_train = y_temp[:train_samples,:]\n",
    "        y_test = y_temp[train_samples:,:]\n",
    "        Y_train = np.concatenate((Y_train, y_train), axis=0)\n",
    "        Y_test = np.concatenate((Y_test, y_test), axis=0)\n",
    "        \n",
    "        num = 0\n",
    "        for j in range(len(raw_y[i][0])):\n",
    "            if raw_y[i][0][j] == 1:\n",
    "                num += 1\n",
    "        print(\"ratio, \", num * 1.0 / len(raw_y[i][0]))\n",
    "    # return np.array(X), np.array(y)\n",
    "    Y_train[Y_train == -1] = 0\n",
    "    Y_test[Y_test == -1] = 0\n",
    "    print(train_samples_each_client, test_samples)\n",
    "    np.save('../benchmark/RAW_DATA/VEHICLE/x_train.npy', np.array(np.transpose(X_train.reshape(-1,2,50),(0,2,1)), dtype=object), allow_pickle=True)\n",
    "    np.save('../benchmark/RAW_DATA/VEHICLE/x_test.npy', np.array(np.transpose(X_test.reshape(-1,2,50),(0,2,1)), dtype=object), allow_pickle=True)\n",
    "    np.save('../benchmark/RAW_DATA/VEHICLE/y_train.npy', np.array(Y_train, dtype=object), allow_pickle=True)\n",
    "    np.save('../benchmark/RAW_DATA/VEHICLE/y_test.npy', np.array(Y_test, dtype=object), allow_pickle=True)\n",
    "    \n",
    "    return X_train, X_test, Y_train, Y_test, train_samples_each_client.tolist(), test_samples"
   ]
  },
  {
   "cell_type": "code",
   "execution_count": null,
   "metadata": {},
   "outputs": [
    {
     "ename": "",
     "evalue": "",
     "output_type": "error",
     "traceback": [
      "\u001b[1;31mFailed to start the Kernel 'hungvv (Python 3.9.17)'. \n",
      "\u001b[1;31mView Jupyter <a href='command:jupyter.viewOutput'>log</a> for further details. Cannot find module './351.node.js'\n",
      "\u001b[1;31mRequire stack:\n",
      "\u001b[1;31m- /home/aiotlabws/.vscode-server/extensions/ms-toolsai.jupyter-2023.8.1002501831-linux-x64/out/extension.node.js\n",
      "\u001b[1;31m- /home/aiotlabws/.vscode-server/bin/fdb98833154679dbaa7af67a5a29fe19e55c2b73/out/vs/loader.js\n",
      "\u001b[1;31m- /home/aiotlabws/.vscode-server/bin/fdb98833154679dbaa7af67a5a29fe19e55c2b73/out/bootstrap-amd.js\n",
      "\u001b[1;31m- /home/aiotlabws/.vscode-server/bin/fdb98833154679dbaa7af67a5a29fe19e55c2b73/out/bootstrap-fork.js"
     ]
    }
   ],
   "source": [
    "X1, X2, Y1, Y2, ls_train_samples, test_samples = generate_data()\n",
    "X1.shape, X2.shape, Y1.shape, Y2.shape, ls_train_samples, test_samples"
   ]
  },
  {
   "cell_type": "code",
   "execution_count": null,
   "metadata": {},
   "outputs": [
    {
     "ename": "",
     "evalue": "",
     "output_type": "error",
     "traceback": [
      "\u001b[1;31mFailed to start the Kernel 'hungvv (Python 3.9.17)'. \n",
      "\u001b[1;31mView Jupyter <a href='command:jupyter.viewOutput'>log</a> for further details. Cannot find module './351.node.js'\n",
      "\u001b[1;31mRequire stack:\n",
      "\u001b[1;31m- /home/aiotlabws/.vscode-server/extensions/ms-toolsai.jupyter-2023.8.1002501831-linux-x64/out/extension.node.js\n",
      "\u001b[1;31m- /home/aiotlabws/.vscode-server/bin/fdb98833154679dbaa7af67a5a29fe19e55c2b73/out/vs/loader.js\n",
      "\u001b[1;31m- /home/aiotlabws/.vscode-server/bin/fdb98833154679dbaa7af67a5a29fe19e55c2b73/out/bootstrap-amd.js\n",
      "\u001b[1;31m- /home/aiotlabws/.vscode-server/bin/fdb98833154679dbaa7af67a5a29fe19e55c2b73/out/bootstrap-fork.js"
     ]
    }
   ],
   "source": [
    "b = np.array(range(30)).reshape(3,10)\n",
    "c = b.reshape(3,2,5)\n",
    "c, c.shape"
   ]
  },
  {
   "cell_type": "code",
   "execution_count": null,
   "metadata": {},
   "outputs": [
    {
     "ename": "",
     "evalue": "",
     "output_type": "error",
     "traceback": [
      "\u001b[1;31mFailed to start the Kernel 'hungvv (Python 3.9.17)'. \n",
      "\u001b[1;31mView Jupyter <a href='command:jupyter.viewOutput'>log</a> for further details. Cannot find module './351.node.js'\n",
      "\u001b[1;31mRequire stack:\n",
      "\u001b[1;31m- /home/aiotlabws/.vscode-server/extensions/ms-toolsai.jupyter-2023.8.1002501831-linux-x64/out/extension.node.js\n",
      "\u001b[1;31m- /home/aiotlabws/.vscode-server/bin/fdb98833154679dbaa7af67a5a29fe19e55c2b73/out/vs/loader.js\n",
      "\u001b[1;31m- /home/aiotlabws/.vscode-server/bin/fdb98833154679dbaa7af67a5a29fe19e55c2b73/out/bootstrap-amd.js\n",
      "\u001b[1;31m- /home/aiotlabws/.vscode-server/bin/fdb98833154679dbaa7af67a5a29fe19e55c2b73/out/bootstrap-fork.js"
     ]
    }
   ],
   "source": [
    "a = np.array(range(10)).reshape(2,5)\n",
    "b = np.transpose(a,(1,0))       #(5,2)\n",
    "b, b.shape"
   ]
  },
  {
   "cell_type": "code",
   "execution_count": null,
   "metadata": {},
   "outputs": [
    {
     "ename": "",
     "evalue": "",
     "output_type": "error",
     "traceback": [
      "\u001b[1;31mFailed to start the Kernel 'hungvv (Python 3.9.17)'. \n",
      "\u001b[1;31mView Jupyter <a href='command:jupyter.viewOutput'>log</a> for further details. Cannot find module './351.node.js'\n",
      "\u001b[1;31mRequire stack:\n",
      "\u001b[1;31m- /home/aiotlabws/.vscode-server/extensions/ms-toolsai.jupyter-2023.8.1002501831-linux-x64/out/extension.node.js\n",
      "\u001b[1;31m- /home/aiotlabws/.vscode-server/bin/fdb98833154679dbaa7af67a5a29fe19e55c2b73/out/vs/loader.js\n",
      "\u001b[1;31m- /home/aiotlabws/.vscode-server/bin/fdb98833154679dbaa7af67a5a29fe19e55c2b73/out/bootstrap-amd.js\n",
      "\u001b[1;31m- /home/aiotlabws/.vscode-server/bin/fdb98833154679dbaa7af67a5a29fe19e55c2b73/out/bootstrap-fork.js"
     ]
    }
   ],
   "source": [
    "b[:,0]"
   ]
  },
  {
   "cell_type": "code",
   "execution_count": null,
   "metadata": {},
   "outputs": [
    {
     "ename": "",
     "evalue": "",
     "output_type": "error",
     "traceback": [
      "\u001b[1;31mFailed to start the Kernel 'hungvv (Python 3.9.17)'. \n",
      "\u001b[1;31mView Jupyter <a href='command:jupyter.viewOutput'>log</a> for further details. Cannot find module './351.node.js'\n",
      "\u001b[1;31mRequire stack:\n",
      "\u001b[1;31m- /home/aiotlabws/.vscode-server/extensions/ms-toolsai.jupyter-2023.8.1002501831-linux-x64/out/extension.node.js\n",
      "\u001b[1;31m- /home/aiotlabws/.vscode-server/bin/fdb98833154679dbaa7af67a5a29fe19e55c2b73/out/vs/loader.js\n",
      "\u001b[1;31m- /home/aiotlabws/.vscode-server/bin/fdb98833154679dbaa7af67a5a29fe19e55c2b73/out/bootstrap-amd.js\n",
      "\u001b[1;31m- /home/aiotlabws/.vscode-server/bin/fdb98833154679dbaa7af67a5a29fe19e55c2b73/out/bootstrap-fork.js"
     ]
    }
   ],
   "source": [
    "c = np.transpose(b,(1,0))\n",
    "c.shape"
   ]
  },
  {
   "cell_type": "code",
   "execution_count": null,
   "metadata": {},
   "outputs": [
    {
     "ename": "",
     "evalue": "",
     "output_type": "error",
     "traceback": [
      "\u001b[1;31mFailed to start the Kernel 'hungvv (Python 3.9.17)'. \n",
      "\u001b[1;31mView Jupyter <a href='command:jupyter.viewOutput'>log</a> for further details. Cannot find module './351.node.js'\n",
      "\u001b[1;31mRequire stack:\n",
      "\u001b[1;31m- /home/aiotlabws/.vscode-server/extensions/ms-toolsai.jupyter-2023.8.1002501831-linux-x64/out/extension.node.js\n",
      "\u001b[1;31m- /home/aiotlabws/.vscode-server/bin/fdb98833154679dbaa7af67a5a29fe19e55c2b73/out/vs/loader.js\n",
      "\u001b[1;31m- /home/aiotlabws/.vscode-server/bin/fdb98833154679dbaa7af67a5a29fe19e55c2b73/out/bootstrap-amd.js\n",
      "\u001b[1;31m- /home/aiotlabws/.vscode-server/bin/fdb98833154679dbaa7af67a5a29fe19e55c2b73/out/bootstrap-fork.js"
     ]
    }
   ],
   "source": []
  },
  {
   "cell_type": "code",
   "execution_count": null,
   "metadata": {},
   "outputs": [
    {
     "ename": "",
     "evalue": "",
     "output_type": "error",
     "traceback": [
      "\u001b[1;31mFailed to start the Kernel 'hungvv (Python 3.9.17)'. \n",
      "\u001b[1;31mView Jupyter <a href='command:jupyter.viewOutput'>log</a> for further details. Cannot find module './351.node.js'\n",
      "\u001b[1;31mRequire stack:\n",
      "\u001b[1;31m- /home/aiotlabws/.vscode-server/extensions/ms-toolsai.jupyter-2023.8.1002501831-linux-x64/out/extension.node.js\n",
      "\u001b[1;31m- /home/aiotlabws/.vscode-server/bin/fdb98833154679dbaa7af67a5a29fe19e55c2b73/out/vs/loader.js\n",
      "\u001b[1;31m- /home/aiotlabws/.vscode-server/bin/fdb98833154679dbaa7af67a5a29fe19e55c2b73/out/bootstrap-amd.js\n",
      "\u001b[1;31m- /home/aiotlabws/.vscode-server/bin/fdb98833154679dbaa7af67a5a29fe19e55c2b73/out/bootstrap-fork.js"
     ]
    }
   ],
   "source": [
    "c = np.transpose(b,(1,0)).reshape(2,5)\n",
    "c, c.shape"
   ]
  },
  {
   "cell_type": "code",
   "execution_count": null,
   "metadata": {},
   "outputs": [
    {
     "ename": "",
     "evalue": "",
     "output_type": "error",
     "traceback": [
      "\u001b[1;31mFailed to start the Kernel 'hungvv (Python 3.9.17)'. \n",
      "\u001b[1;31mView Jupyter <a href='command:jupyter.viewOutput'>log</a> for further details. Cannot find module './351.node.js'\n",
      "\u001b[1;31mRequire stack:\n",
      "\u001b[1;31m- /home/aiotlabws/.vscode-server/extensions/ms-toolsai.jupyter-2023.8.1002501831-linux-x64/out/extension.node.js\n",
      "\u001b[1;31m- /home/aiotlabws/.vscode-server/bin/fdb98833154679dbaa7af67a5a29fe19e55c2b73/out/vs/loader.js\n",
      "\u001b[1;31m- /home/aiotlabws/.vscode-server/bin/fdb98833154679dbaa7af67a5a29fe19e55c2b73/out/bootstrap-amd.js\n",
      "\u001b[1;31m- /home/aiotlabws/.vscode-server/bin/fdb98833154679dbaa7af67a5a29fe19e55c2b73/out/bootstrap-fork.js"
     ]
    }
   ],
   "source": [
    "c[0,:]"
   ]
  },
  {
   "cell_type": "code",
   "execution_count": null,
   "metadata": {},
   "outputs": [
    {
     "ename": "",
     "evalue": "",
     "output_type": "error",
     "traceback": [
      "\u001b[1;31mFailed to start the Kernel 'hungvv (Python 3.9.17)'. \n",
      "\u001b[1;31mView Jupyter <a href='command:jupyter.viewOutput'>log</a> for further details. Cannot find module './351.node.js'\n",
      "\u001b[1;31mRequire stack:\n",
      "\u001b[1;31m- /home/aiotlabws/.vscode-server/extensions/ms-toolsai.jupyter-2023.8.1002501831-linux-x64/out/extension.node.js\n",
      "\u001b[1;31m- /home/aiotlabws/.vscode-server/bin/fdb98833154679dbaa7af67a5a29fe19e55c2b73/out/vs/loader.js\n",
      "\u001b[1;31m- /home/aiotlabws/.vscode-server/bin/fdb98833154679dbaa7af67a5a29fe19e55c2b73/out/bootstrap-amd.js\n",
      "\u001b[1;31m- /home/aiotlabws/.vscode-server/bin/fdb98833154679dbaa7af67a5a29fe19e55c2b73/out/bootstrap-fork.js"
     ]
    }
   ],
   "source": [
    "c, c[:,0], c.shape"
   ]
  },
  {
   "cell_type": "code",
   "execution_count": null,
   "metadata": {},
   "outputs": [
    {
     "ename": "",
     "evalue": "",
     "output_type": "error",
     "traceback": [
      "\u001b[1;31mFailed to start the Kernel 'hungvv (Python 3.9.17)'. \n",
      "\u001b[1;31mView Jupyter <a href='command:jupyter.viewOutput'>log</a> for further details. Cannot find module './351.node.js'\n",
      "\u001b[1;31mRequire stack:\n",
      "\u001b[1;31m- /home/aiotlabws/.vscode-server/extensions/ms-toolsai.jupyter-2023.8.1002501831-linux-x64/out/extension.node.js\n",
      "\u001b[1;31m- /home/aiotlabws/.vscode-server/bin/fdb98833154679dbaa7af67a5a29fe19e55c2b73/out/vs/loader.js\n",
      "\u001b[1;31m- /home/aiotlabws/.vscode-server/bin/fdb98833154679dbaa7af67a5a29fe19e55c2b73/out/bootstrap-amd.js\n",
      "\u001b[1;31m- /home/aiotlabws/.vscode-server/bin/fdb98833154679dbaa7af67a5a29fe19e55c2b73/out/bootstrap-fork.js"
     ]
    }
   ],
   "source": []
  },
  {
   "cell_type": "code",
   "execution_count": null,
   "metadata": {},
   "outputs": [
    {
     "ename": "",
     "evalue": "",
     "output_type": "error",
     "traceback": [
      "\u001b[1;31mFailed to start the Kernel 'hungvv (Python 3.9.17)'. \n",
      "\u001b[1;31mView Jupyter <a href='command:jupyter.viewOutput'>log</a> for further details. Cannot find module './351.node.js'\n",
      "\u001b[1;31mRequire stack:\n",
      "\u001b[1;31m- /home/aiotlabws/.vscode-server/extensions/ms-toolsai.jupyter-2023.8.1002501831-linux-x64/out/extension.node.js\n",
      "\u001b[1;31m- /home/aiotlabws/.vscode-server/bin/fdb98833154679dbaa7af67a5a29fe19e55c2b73/out/vs/loader.js\n",
      "\u001b[1;31m- /home/aiotlabws/.vscode-server/bin/fdb98833154679dbaa7af67a5a29fe19e55c2b73/out/bootstrap-amd.js\n",
      "\u001b[1;31m- /home/aiotlabws/.vscode-server/bin/fdb98833154679dbaa7af67a5a29fe19e55c2b73/out/bootstrap-fork.js"
     ]
    }
   ],
   "source": [
    "res = np.transpose(c,(0,2,1))\n",
    "res, res.shape"
   ]
  },
  {
   "cell_type": "code",
   "execution_count": null,
   "metadata": {},
   "outputs": [
    {
     "ename": "",
     "evalue": "",
     "output_type": "error",
     "traceback": [
      "\u001b[1;31mFailed to start the Kernel 'hungvv (Python 3.9.17)'. \n",
      "\u001b[1;31mView Jupyter <a href='command:jupyter.viewOutput'>log</a> for further details. Cannot find module './351.node.js'\n",
      "\u001b[1;31mRequire stack:\n",
      "\u001b[1;31m- /home/aiotlabws/.vscode-server/extensions/ms-toolsai.jupyter-2023.8.1002501831-linux-x64/out/extension.node.js\n",
      "\u001b[1;31m- /home/aiotlabws/.vscode-server/bin/fdb98833154679dbaa7af67a5a29fe19e55c2b73/out/vs/loader.js\n",
      "\u001b[1;31m- /home/aiotlabws/.vscode-server/bin/fdb98833154679dbaa7af67a5a29fe19e55c2b73/out/bootstrap-amd.js\n",
      "\u001b[1;31m- /home/aiotlabws/.vscode-server/bin/fdb98833154679dbaa7af67a5a29fe19e55c2b73/out/bootstrap-fork.js"
     ]
    }
   ],
   "source": [
    "np.unique(Y1)"
   ]
  },
  {
   "cell_type": "code",
   "execution_count": null,
   "metadata": {},
   "outputs": [
    {
     "ename": "",
     "evalue": "",
     "output_type": "error",
     "traceback": [
      "\u001b[1;31mFailed to start the Kernel 'hungvv (Python 3.9.17)'. \n",
      "\u001b[1;31mView Jupyter <a href='command:jupyter.viewOutput'>log</a> for further details. Cannot find module './351.node.js'\n",
      "\u001b[1;31mRequire stack:\n",
      "\u001b[1;31m- /home/aiotlabws/.vscode-server/extensions/ms-toolsai.jupyter-2023.8.1002501831-linux-x64/out/extension.node.js\n",
      "\u001b[1;31m- /home/aiotlabws/.vscode-server/bin/fdb98833154679dbaa7af67a5a29fe19e55c2b73/out/vs/loader.js\n",
      "\u001b[1;31m- /home/aiotlabws/.vscode-server/bin/fdb98833154679dbaa7af67a5a29fe19e55c2b73/out/bootstrap-amd.js\n",
      "\u001b[1;31m- /home/aiotlabws/.vscode-server/bin/fdb98833154679dbaa7af67a5a29fe19e55c2b73/out/bootstrap-fork.js"
     ]
    }
   ],
   "source": [
    "ls_train_samples"
   ]
  },
  {
   "cell_type": "code",
   "execution_count": null,
   "metadata": {},
   "outputs": [
    {
     "ename": "",
     "evalue": "",
     "output_type": "error",
     "traceback": [
      "\u001b[1;31mFailed to start the Kernel 'hungvv (Python 3.9.17)'. \n",
      "\u001b[1;31mView Jupyter <a href='command:jupyter.viewOutput'>log</a> for further details. Cannot find module './351.node.js'\n",
      "\u001b[1;31mRequire stack:\n",
      "\u001b[1;31m- /home/aiotlabws/.vscode-server/extensions/ms-toolsai.jupyter-2023.8.1002501831-linux-x64/out/extension.node.js\n",
      "\u001b[1;31m- /home/aiotlabws/.vscode-server/bin/fdb98833154679dbaa7af67a5a29fe19e55c2b73/out/vs/loader.js\n",
      "\u001b[1;31m- /home/aiotlabws/.vscode-server/bin/fdb98833154679dbaa7af67a5a29fe19e55c2b73/out/bootstrap-amd.js\n",
      "\u001b[1;31m- /home/aiotlabws/.vscode-server/bin/fdb98833154679dbaa7af67a5a29fe19e55c2b73/out/bootstrap-fork.js"
     ]
    }
   ],
   "source": [
    "np.random.randint(12, size=1)"
   ]
  },
  {
   "cell_type": "code",
   "execution_count": null,
   "metadata": {},
   "outputs": [],
   "source": [
    "NUM_USER = 23\n",
    "def gen_list_modalities (missing_rate=0.5, num_modalities=2):\n",
    "    mat_modals = []\n",
    "    list_modals_tuples = []\n",
    "    # num_sample_modals = np.zeros(num_modalities)\n",
    "    for i in range(NUM_USER):\n",
    "        unimodal_ind = np.random.randint(num_modalities, size=1)\n",
    "        # print(\"Uni: \", np.random.randint(num_modalities, size=1))\n",
    "        modal_list = np.random.binomial(size=num_modalities, n=1, p=1-missing_rate)\n",
    "        # modal_indexes = np.where(modal_list==1)[0]\n",
    "        modal_list[unimodal_ind] = 1\n",
    "        modal_indexes = np.where(modal_list==1)[0]\n",
    "        # print(modal_indexes)\n",
    "        list_modals_tuples.append(tuple(modal_indexes))  \n",
    "        mat_modals.append(modal_list.tolist())\n",
    "    mat_modals = np.array(mat_modals)\n",
    "    num_sample_modals = np.sum(mat_modals, axis=0)\n",
    "    print(\"Num_sam:\", num_sample_modals)\n",
    "    return list_modals_tuples      "
   ]
  },
  {
   "cell_type": "code",
   "execution_count": null,
   "metadata": {},
   "outputs": [
    {
     "name": "stdout",
     "output_type": "stream",
     "text": [
      "Num_sam: [15 15]\n"
     ]
    },
    {
     "data": {
      "text/plain": [
       "[(1,),\n",
       " (1,),\n",
       " (0,),\n",
       " (0, 1),\n",
       " (0, 1),\n",
       " (0, 1),\n",
       " (1,),\n",
       " (0,),\n",
       " (0,),\n",
       " (0,),\n",
       " (1,),\n",
       " (1,),\n",
       " (0,),\n",
       " (0, 1),\n",
       " (0, 1),\n",
       " (0, 1),\n",
       " (0, 1),\n",
       " (1,),\n",
       " (1,),\n",
       " (0,),\n",
       " (0,),\n",
       " (0,),\n",
       " (1,)]"
      ]
     },
     "execution_count": 3,
     "metadata": {},
     "output_type": "execute_result"
    }
   ],
   "source": [
    "gen_list_modalities(0.7,2)"
   ]
  },
  {
   "cell_type": "code",
   "execution_count": null,
   "metadata": {},
   "outputs": [
    {
     "name": "stdout",
     "output_type": "stream",
     "text": [
      "Num_sam: [20 19]\n"
     ]
    },
    {
     "data": {
      "text/plain": [
       "[(0, 1),\n",
       " (0, 1),\n",
       " (0, 1),\n",
       " (0, 1),\n",
       " (0,),\n",
       " (0, 1),\n",
       " (0, 1),\n",
       " (0, 1),\n",
       " (0, 1),\n",
       " (0,),\n",
       " (0, 1),\n",
       " (0, 1),\n",
       " (0, 1),\n",
       " (1,),\n",
       " (0,),\n",
       " (0, 1),\n",
       " (0, 1),\n",
       " (0, 1),\n",
       " (1,),\n",
       " (0, 1),\n",
       " (0,),\n",
       " (1,),\n",
       " (0, 1)]"
      ]
     },
     "execution_count": 13,
     "metadata": {},
     "output_type": "execute_result"
    }
   ],
   "source": [
    "gen_list_modalities(0.3,2)"
   ]
  },
  {
   "cell_type": "code",
   "execution_count": null,
   "metadata": {},
   "outputs": [
    {
     "name": "stdout",
     "output_type": "stream",
     "text": [
      "Num_sam: [14  9]\n"
     ]
    },
    {
     "data": {
      "text/plain": [
       "[(1,),\n",
       " (0,),\n",
       " (0,),\n",
       " (1,),\n",
       " (1,),\n",
       " (0,),\n",
       " (1,),\n",
       " (1,),\n",
       " (0,),\n",
       " (0,),\n",
       " (0,),\n",
       " (0,),\n",
       " (0,),\n",
       " (0,),\n",
       " (1,),\n",
       " (0,),\n",
       " (0,),\n",
       " (0,),\n",
       " (0,),\n",
       " (0,),\n",
       " (1,),\n",
       " (1,),\n",
       " (1,)]"
      ]
     },
     "execution_count": 22,
     "metadata": {},
     "output_type": "execute_result"
    }
   ],
   "source": [
    "gen_list_modalities(1,2)"
   ]
  },
  {
   "cell_type": "code",
   "execution_count": null,
   "metadata": {},
   "outputs": [
    {
     "ename": "",
     "evalue": "",
     "output_type": "error",
     "traceback": [
      "\u001b[1;31mFailed to start the Kernel 'hungvv (Python 3.9.17)'. \n",
      "\u001b[1;31mView Jupyter <a href='command:jupyter.viewOutput'>log</a> for further details. Cannot find module './351.node.js'\n",
      "\u001b[1;31mRequire stack:\n",
      "\u001b[1;31m- /home/aiotlabws/.vscode-server/extensions/ms-toolsai.jupyter-2023.8.1002501831-linux-x64/out/extension.node.js\n",
      "\u001b[1;31m- /home/aiotlabws/.vscode-server/bin/fdb98833154679dbaa7af67a5a29fe19e55c2b73/out/vs/loader.js\n",
      "\u001b[1;31m- /home/aiotlabws/.vscode-server/bin/fdb98833154679dbaa7af67a5a29fe19e55c2b73/out/bootstrap-amd.js\n",
      "\u001b[1;31m- /home/aiotlabws/.vscode-server/bin/fdb98833154679dbaa7af67a5a29fe19e55c2b73/out/bootstrap-fork.js"
     ]
    }
   ],
   "source": [
    "x_ptb = np.load(\"../benchmark/RAW_DATA/PTBXL_REDUCE/x_train.npy\")\n",
    "test_xptb = np.load(\"../benchmark/RAW_DATA/PTBXL_REDUCE/x_test.npy\")\n",
    "y_ptb = np.load(\"../benchmark/RAW_DATA/PTBXL_REDUCE/y_train.npy\")\n",
    "# x_ptb.shape\n"
   ]
  },
  {
   "cell_type": "code",
   "execution_count": null,
   "metadata": {},
   "outputs": [
    {
     "ename": "",
     "evalue": "",
     "output_type": "error",
     "traceback": [
      "\u001b[1;31mFailed to start the Kernel 'hungvv (Python 3.9.17)'. \n",
      "\u001b[1;31mView Jupyter <a href='command:jupyter.viewOutput'>log</a> for further details. Cannot find module './351.node.js'\n",
      "\u001b[1;31mRequire stack:\n",
      "\u001b[1;31m- /home/aiotlabws/.vscode-server/extensions/ms-toolsai.jupyter-2023.8.1002501831-linux-x64/out/extension.node.js\n",
      "\u001b[1;31m- /home/aiotlabws/.vscode-server/bin/fdb98833154679dbaa7af67a5a29fe19e55c2b73/out/vs/loader.js\n",
      "\u001b[1;31m- /home/aiotlabws/.vscode-server/bin/fdb98833154679dbaa7af67a5a29fe19e55c2b73/out/bootstrap-amd.js\n",
      "\u001b[1;31m- /home/aiotlabws/.vscode-server/bin/fdb98833154679dbaa7af67a5a29fe19e55c2b73/out/bootstrap-fork.js"
     ]
    }
   ],
   "source": []
  },
  {
   "cell_type": "code",
   "execution_count": null,
   "metadata": {},
   "outputs": [
    {
     "ename": "",
     "evalue": "",
     "output_type": "error",
     "traceback": [
      "\u001b[1;31mFailed to start the Kernel 'hungvv (Python 3.9.17)'. \n",
      "\u001b[1;31mView Jupyter <a href='command:jupyter.viewOutput'>log</a> for further details. Cannot find module './351.node.js'\n",
      "\u001b[1;31mRequire stack:\n",
      "\u001b[1;31m- /home/aiotlabws/.vscode-server/extensions/ms-toolsai.jupyter-2023.8.1002501831-linux-x64/out/extension.node.js\n",
      "\u001b[1;31m- /home/aiotlabws/.vscode-server/bin/fdb98833154679dbaa7af67a5a29fe19e55c2b73/out/vs/loader.js\n",
      "\u001b[1;31m- /home/aiotlabws/.vscode-server/bin/fdb98833154679dbaa7af67a5a29fe19e55c2b73/out/bootstrap-amd.js\n",
      "\u001b[1;31m- /home/aiotlabws/.vscode-server/bin/fdb98833154679dbaa7af67a5a29fe19e55c2b73/out/bootstrap-fork.js"
     ]
    }
   ],
   "source": [
    "np.unique(y_ptb)"
   ]
  },
  {
   "cell_type": "code",
   "execution_count": null,
   "metadata": {},
   "outputs": [
    {
     "ename": "",
     "evalue": "",
     "output_type": "error",
     "traceback": [
      "\u001b[1;31mFailed to start the Kernel 'hungvv (Python 3.9.17)'. \n",
      "\u001b[1;31mView Jupyter <a href='command:jupyter.viewOutput'>log</a> for further details. Cannot find module './351.node.js'\n",
      "\u001b[1;31mRequire stack:\n",
      "\u001b[1;31m- /home/aiotlabws/.vscode-server/extensions/ms-toolsai.jupyter-2023.8.1002501831-linux-x64/out/extension.node.js\n",
      "\u001b[1;31m- /home/aiotlabws/.vscode-server/bin/fdb98833154679dbaa7af67a5a29fe19e55c2b73/out/vs/loader.js\n",
      "\u001b[1;31m- /home/aiotlabws/.vscode-server/bin/fdb98833154679dbaa7af67a5a29fe19e55c2b73/out/bootstrap-amd.js\n",
      "\u001b[1;31m- /home/aiotlabws/.vscode-server/bin/fdb98833154679dbaa7af67a5a29fe19e55c2b73/out/bootstrap-fork.js"
     ]
    }
   ],
   "source": [
    "x_ptb.shape, test_xptb.shape, y_ptb.shape # (3samples, feature_dim, #modalities)"
   ]
  }
 ],
 "metadata": {
  "kernelspec": {
   "display_name": "hangpt",
   "language": "python",
   "name": "python3"
  },
  "language_info": {
   "codemirror_mode": {
    "name": "ipython",
    "version": 3
   },
   "file_extension": ".py",
   "mimetype": "text/x-python",
   "name": "python",
   "nbconvert_exporter": "python",
   "pygments_lexer": "ipython3",
   "version": "3.10.6"
  },
  "orig_nbformat": 4
 },
 "nbformat": 4,
 "nbformat_minor": 2
}
