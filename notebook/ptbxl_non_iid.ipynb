{
 "cells": [
  {
   "cell_type": "code",
   "execution_count": 1,
   "metadata": {},
   "outputs": [],
   "source": [
    "import numpy as np"
   ]
  },
  {
   "cell_type": "code",
   "execution_count": 2,
   "metadata": {},
   "outputs": [],
   "source": [
    "y_train = np.load('../benchmark/RAW_DATA/PTBXL/y_train.npy')"
   ]
  },
  {
   "cell_type": "code",
   "execution_count": 3,
   "metadata": {},
   "outputs": [
    {
     "data": {
      "text/plain": [
       "(19634, 71)"
      ]
     },
     "execution_count": 3,
     "metadata": {},
     "output_type": "execute_result"
    }
   ],
   "source": [
    "y_train.shape"
   ]
  },
  {
   "cell_type": "code",
   "execution_count": 4,
   "metadata": {},
   "outputs": [
    {
     "data": {
      "text/plain": [
       "(19634,)"
      ]
     },
     "execution_count": 4,
     "metadata": {},
     "output_type": "execute_result"
    }
   ],
   "source": [
    "sample_positive_count = y_train.sum(axis=1)\n",
    "sample_positive_count.shape"
   ]
  },
  {
   "cell_type": "code",
   "execution_count": 5,
   "metadata": {},
   "outputs": [
    {
     "data": {
      "text/plain": [
       "(1, 9)"
      ]
     },
     "execution_count": 5,
     "metadata": {},
     "output_type": "execute_result"
    }
   ],
   "source": [
    "sample_positive_count.min(), sample_positive_count.max()"
   ]
  },
  {
   "cell_type": "code",
   "execution_count": 6,
   "metadata": {},
   "outputs": [
    {
     "data": {
      "text/plain": [
       "(71,)"
      ]
     },
     "execution_count": 6,
     "metadata": {},
     "output_type": "execute_result"
    }
   ],
   "source": [
    "label_positive_count = y_train.sum(axis=0)\n",
    "label_positive_count.shape"
   ]
  },
  {
   "cell_type": "code",
   "execution_count": 7,
   "metadata": {},
   "outputs": [
    {
     "data": {
      "text/plain": [
       "array([    9,    13,    13,    14,    15,    15,    16,    18,    22,\n",
       "          24,    25,    27,    30,    32,    40,    46,    56,    66,\n",
       "          69,    72,    74,    88,    89,    94,   107,   114,   128,\n",
       "         134,   143,   153,   159,   161,   163,   164,   181,   193,\n",
       "         197,   261,   265,   267,   306,   319,   358,   382,   385,\n",
       "         394,   431,   482,   488,   493,   573,   594,   693,   695,\n",
       "         710,   717,   744,   788,   908,  1006,  1031,  1147,  1362,\n",
       "        1463,  1646,  1923,  2127,  2417,  3005,  8564, 15104])"
      ]
     },
     "execution_count": 7,
     "metadata": {},
     "output_type": "execute_result"
    }
   ],
   "source": [
    "label_positive_count[np.argsort(label_positive_count)]"
   ]
  },
  {
   "cell_type": "code",
   "execution_count": 8,
   "metadata": {},
   "outputs": [
    {
     "data": {
      "text/plain": [
       "array([52,  1, 21,  2, 51, 23, 22, 68, 53, 66, 64, 60, 26, 67, 29, 25, 15,\n",
       "        5, 16, 70, 10, 14, 56,  8, 39, 57, 33, 19, 65, 30, 41, 31, 13, 44,\n",
       "       38, 20, 32,  6, 24, 50, 42,  7, 49, 48, 37, 40, 17, 11, 12, 55, 59,\n",
       "       28, 47, 58, 35,  0, 62, 69, 63, 27, 54, 34,  4, 36, 45, 43,  9, 18,\n",
       "        3, 46, 61])"
      ]
     },
     "execution_count": 8,
     "metadata": {},
     "output_type": "execute_result"
    }
   ],
   "source": [
    "np.argsort(label_positive_count)"
   ]
  },
  {
   "cell_type": "code",
   "execution_count": 9,
   "metadata": {},
   "outputs": [
    {
     "data": {
      "text/plain": [
       "(70, 70)"
      ]
     },
     "execution_count": 9,
     "metadata": {},
     "output_type": "execute_result"
    }
   ],
   "source": [
    "count = 0\n",
    "i = 0\n",
    "indices = list()\n",
    "all = list(range(y_train.shape[0]))\n",
    "while len(all) > 0:\n",
    "    current_label = y_train[:, np.argsort(label_positive_count)[i]]\n",
    "    current_positive = np.where(current_label == 1.0)[0].tolist()\n",
    "    choices = set(current_positive).intersection(set(all))\n",
    "    if len(choices) > 0:\n",
    "        indices.append(list(choices))\n",
    "        all = [index for index in all if index not in choices]\n",
    "        count += 1\n",
    "    i += 1\n",
    "count, i"
   ]
  },
  {
   "cell_type": "code",
   "execution_count": 10,
   "metadata": {},
   "outputs": [
    {
     "data": {
      "text/plain": [
       "6564"
      ]
     },
     "execution_count": 10,
     "metadata": {},
     "output_type": "execute_result"
    }
   ],
   "source": [
    "y_train[list(choices), 46].sum()"
   ]
  },
  {
   "cell_type": "code",
   "execution_count": 11,
   "metadata": {},
   "outputs": [],
   "source": [
    "from matplotlib import pyplot as plt"
   ]
  },
  {
   "cell_type": "code",
   "execution_count": 12,
   "metadata": {},
   "outputs": [],
   "source": [
    "import json"
   ]
  },
  {
   "cell_type": "code",
   "execution_count": 13,
   "metadata": {},
   "outputs": [],
   "source": [
    "data = json.load(open('../fedtask/ptbxl_cnum1_iid_0+1/data.json', 'r'))"
   ]
  },
  {
   "cell_type": "code",
   "execution_count": 14,
   "metadata": {},
   "outputs": [
    {
     "data": {
      "text/plain": [
       "dict_keys(['store', 'dtest', 'datasrc', 'client_names', 'Client0'])"
      ]
     },
     "execution_count": 14,
     "metadata": {},
     "output_type": "execute_result"
    }
   ],
   "source": [
    "data.keys()"
   ]
  },
  {
   "cell_type": "code",
   "execution_count": 15,
   "metadata": {},
   "outputs": [
    {
     "data": {
      "text/plain": [
       "'all'"
      ]
     },
     "execution_count": 15,
     "metadata": {},
     "output_type": "execute_result"
    }
   ],
   "source": [
    "data['Client0']['modalities']"
   ]
  },
  {
   "cell_type": "code",
   "execution_count": 16,
   "metadata": {},
   "outputs": [],
   "source": [
    "new_data = {\n",
    "    'store': data['store'],\n",
    "    'dtest': data['dtest'],\n",
    "    'datasrc': data['datasrc'],\n",
    "    'client_names': ['Client{:02d}'.format(i) for i in range(100)]\n",
    "}"
   ]
  },
  {
   "cell_type": "code",
   "execution_count": 17,
   "metadata": {},
   "outputs": [],
   "source": [
    "for i, choices in enumerate(indices[:-1]):\n",
    "    new_data['Client{:02d}'.format(i)] = {\n",
    "        'dtrain': choices,\n",
    "        'dvalid': list(),\n",
    "        'modalities': 'all'\n",
    "    }"
   ]
  },
  {
   "cell_type": "code",
   "execution_count": 18,
   "metadata": {},
   "outputs": [],
   "source": [
    "import random"
   ]
  },
  {
   "cell_type": "code",
   "execution_count": 19,
   "metadata": {},
   "outputs": [
    {
     "data": {
      "text/plain": [
       "array([165,  83, 105,  96, 299,  20,  91, 141,  22,  58,  48, 478, 152,\n",
       "       233, 143,  30, 552,  20, 383, 163, 499, 157, 123,  54, 443,  66,\n",
       "       238, 708, 261, 692,  41])"
      ]
     },
     "execution_count": 19,
     "metadata": {},
     "output_type": "execute_result"
    }
   ],
   "source": [
    "random.seed(369)\n",
    "np.random.seed(369)\n",
    "pvals = np.random.dirichlet(alpha=[1.0] * 31)\n",
    "split_lengths = np.random.multinomial(len(indices[-1]), pvals=pvals)\n",
    "split_lengths"
   ]
  },
  {
   "cell_type": "code",
   "execution_count": 20,
   "metadata": {},
   "outputs": [],
   "source": [
    "choices = indices[-1]\n",
    "random.shuffle(choices)\n",
    "start = 0\n",
    "for i, length in enumerate(split_lengths):\n",
    "    new_data['Client{:02d}'.format(i + 69)] = {\n",
    "        'dtrain': choices[start:start + length],\n",
    "        'dvalid': list(),\n",
    "        'modalities': 'all'\n",
    "    }\n",
    "    start += length"
   ]
  },
  {
   "cell_type": "code",
   "execution_count": 21,
   "metadata": {},
   "outputs": [],
   "source": [
    "with open('../fedtask/ptbxl_cnum100_non_iid_0+100/data.json', 'w') as f:\n",
    "    json.dump(new_data, f)"
   ]
  },
  {
   "cell_type": "code",
   "execution_count": null,
   "metadata": {},
   "outputs": [],
   "source": []
  }
 ],
 "metadata": {
  "kernelspec": {
   "display_name": "longnd",
   "language": "python",
   "name": "python3"
  },
  "language_info": {
   "codemirror_mode": {
    "name": "ipython",
    "version": 3
   },
   "file_extension": ".py",
   "mimetype": "text/x-python",
   "name": "python",
   "nbconvert_exporter": "python",
   "pygments_lexer": "ipython3",
   "version": "3.7.11"
  },
  "orig_nbformat": 4
 },
 "nbformat": 4,
 "nbformat_minor": 2
}
