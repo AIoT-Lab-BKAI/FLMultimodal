{
 "cells": [
  {
   "cell_type": "code",
   "execution_count": 1,
   "metadata": {},
   "outputs": [],
   "source": [
    "import scipy.io\n",
    "import os\n",
    "import numpy as np\n",
    "import random\n",
    "import json\n",
    "from numpy import *\n",
    "import torch\n",
    "from collections import Counter"
   ]
  },
  {
   "cell_type": "code",
   "execution_count": 2,
   "metadata": {},
   "outputs": [
    {
     "data": {
      "text/plain": [
       "((14594, 1000, 12), (1650, 1000, 12))"
      ]
     },
     "execution_count": 2,
     "metadata": {},
     "output_type": "execute_result"
    }
   ],
   "source": [
    "# Read again processed files\n",
    "x_train = np.load(\"../benchmark/RAW_DATA/PTBXL_SUPERCLASS/x_train.npy\", allow_pickle=True)\n",
    "y_train = np.load(\"../benchmark/RAW_DATA/PTBXL_SUPERCLASS/y_train.npy\", allow_pickle=True)\n",
    "x_test = np.load(\"../benchmark/RAW_DATA/PTBXL_SUPERCLASS/x_test.npy\", allow_pickle=True)\n",
    "y_test = np.load(\"../benchmark/RAW_DATA/PTBXL_SUPERCLASS/y_test.npy\", allow_pickle=True)\n",
    "\n",
    "x_train.shape, x_test.shape"
   ]
  },
  {
   "cell_type": "code",
   "execution_count": 2,
   "metadata": {},
   "outputs": [
    {
     "data": {
      "text/plain": [
       "((8500, 1000, 12), (1000, 1000, 12))"
      ]
     },
     "execution_count": 2,
     "metadata": {},
     "output_type": "execute_result"
    }
   ],
   "source": [
    "# Read again processed files\n",
    "x_train = np.load(\"../benchmark/RAW_DATA/PTBXL_4CLASSES/x_train.npy\", allow_pickle=True)\n",
    "y_train = np.load(\"../benchmark/RAW_DATA/PTBXL_4CLASSES/y_train.npy\", allow_pickle=True)\n",
    "x_test = np.load(\"../benchmark/RAW_DATA/PTBXL_4CLASSES/x_test.npy\", allow_pickle=True)\n",
    "y_test = np.load(\"../benchmark/RAW_DATA/PTBXL_4CLASSES/y_test.npy\", allow_pickle=True)\n",
    "\n",
    "x_train.shape, x_test.shape"
   ]
  },
  {
   "cell_type": "code",
   "execution_count": 3,
   "metadata": {},
   "outputs": [
    {
     "data": {
      "text/plain": [
       "(array([0, 0, 0, 0, 0, 0, 0, 2, 0, 0], dtype=object),\n",
       " array([0, 0, 0, 0, 0, 2, 1, 0, 0, 0], dtype=object))"
      ]
     },
     "execution_count": 3,
     "metadata": {},
     "output_type": "execute_result"
    }
   ],
   "source": [
    "y_train[:10], y_test[:10]"
   ]
  },
  {
   "cell_type": "code",
   "execution_count": 3,
   "metadata": {},
   "outputs": [
    {
     "data": {
      "text/plain": [
       "(Counter({0: 2542, 2: 2276, 3: 2158, 1: 1524}), (8500,))"
      ]
     },
     "execution_count": 3,
     "metadata": {},
     "output_type": "execute_result"
    }
   ],
   "source": [
    "Counter(y_train), y_train.shape"
   ]
  },
  {
   "cell_type": "code",
   "execution_count": 4,
   "metadata": {},
   "outputs": [
    {
     "data": {
      "text/plain": [
       "(Counter({0: 318, 2: 256, 1: 184, 3: 242}), (1000,))"
      ]
     },
     "execution_count": 4,
     "metadata": {},
     "output_type": "execute_result"
    }
   ],
   "source": [
    "Counter(y_test), y_test.shape"
   ]
  },
  {
   "cell_type": "code",
   "execution_count": 6,
   "metadata": {},
   "outputs": [
    {
     "data": {
      "text/plain": [
       "(array([0, 1, 2, 3, 4], dtype=object), array([0, 1, 2, 3, 4], dtype=object))"
      ]
     },
     "execution_count": 6,
     "metadata": {},
     "output_type": "execute_result"
    }
   ],
   "source": [
    "np.unique(y_train), np.unique(y_test)"
   ]
  },
  {
   "cell_type": "code",
   "execution_count": 7,
   "metadata": {},
   "outputs": [
    {
     "data": {
      "text/plain": [
       "array([0, 0, 0, ..., 4, 0, 0], dtype=object)"
      ]
     },
     "execution_count": 7,
     "metadata": {},
     "output_type": "execute_result"
    }
   ],
   "source": [
    "y_train"
   ]
  }
 ],
 "metadata": {
  "kernelspec": {
   "display_name": "hangpt",
   "language": "python",
   "name": "python3"
  },
  "language_info": {
   "codemirror_mode": {
    "name": "ipython",
    "version": 3
   },
   "file_extension": ".py",
   "mimetype": "text/x-python",
   "name": "python",
   "nbconvert_exporter": "python",
   "pygments_lexer": "ipython3",
   "version": "3.7.11"
  },
  "orig_nbformat": 4
 },
 "nbformat": 4,
 "nbformat_minor": 2
}
