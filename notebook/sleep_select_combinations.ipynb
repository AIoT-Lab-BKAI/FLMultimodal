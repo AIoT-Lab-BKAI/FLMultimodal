{
 "cells": [
  {
   "cell_type": "code",
   "execution_count": 4,
   "metadata": {},
   "outputs": [],
   "source": [
    "import numpy as np\n",
    "from itertools import combinations\n",
    "import math\n",
    "import random"
   ]
  },
  {
   "cell_type": "code",
   "execution_count": 5,
   "metadata": {},
   "outputs": [
    {
     "data": {
      "text/plain": [
       "[(0, 1), (0, 2), (0, 3), (1, 2), (1, 3), (2, 3)]"
      ]
     },
     "execution_count": 5,
     "metadata": {},
     "output_type": "execute_result"
    }
   ],
   "source": [
    "list(combinations(range(4),2))"
   ]
  },
  {
   "cell_type": "code",
   "execution_count": 6,
   "metadata": {},
   "outputs": [
    {
     "data": {
      "text/plain": [
       "1"
      ]
     },
     "execution_count": 6,
     "metadata": {},
     "output_type": "execute_result"
    }
   ],
   "source": [
    "a = [1,2,4,6,7,9]\n",
    "b = [2,10]\n",
    "len(list(set(a) & set(b)))"
   ]
  },
  {
   "cell_type": "code",
   "execution_count": 7,
   "metadata": {},
   "outputs": [],
   "source": [
    "def take_least_combi(num_combi_test, ls_combi_train):\n",
    "    possible_coms = list(combinations(range(5),num_combi_test))\n",
    "    num_exist = np.zeros(len(possible_coms))\n",
    "    max_num_exist = np.zeros(len(possible_coms))\n",
    "    for i in range(len(possible_coms)):\n",
    "        num_exist_ls = np.zeros(len(ls_combi_train))\n",
    "        for j in range(len(ls_combi_train)):\n",
    "            # print(len(list(set(possible_coms[i]) & set(j))),set(possible_coms[i]),set(j))\n",
    "            num_exist_ls[j] = len(list(set(possible_coms[i]) & set(ls_combi_train[j])))\n",
    "            num_exist[i] += math.pow(16,num_exist_ls[j])\n",
    "        # print(num_exist[i])\n",
    "        max_num_exist[i] = max(num_exist_ls)\n",
    "        # print(max_num_exist[i])\n",
    "    sort_ind = np.argsort(num_exist)\n",
    "    # print(sort_ind)\n",
    "    print(possible_coms[sort_ind[0]], num_exist[sort_ind[0]], \"max\", max_num_exist[sort_ind[0]], possible_coms[sort_ind[1]], num_exist[sort_ind[1]], \"max\", max_num_exist[sort_ind[1]])\n",
    "    return max_num_exist[sort_ind[0]]"
   ]
  },
  {
   "cell_type": "code",
   "execution_count": 17,
   "metadata": {},
   "outputs": [],
   "source": [
    "# ls_equal = [\n",
    "#     (2,), (3, 2), (0, 3, 4), (2, 1), (4,), (2, 4), (1,), (3,), (0,), (4, 0),\n",
    "#     (0, 4, 3), (0, 2, 3), (4, 1), (4, 1, 3), (2, 0), (3, 1), (3, 4), (0, 4),\n",
    "#     (0, 4, 1), (4, 1, 2), (1, 0), (1, 2, 4), (2, 0, 3), (0, 3), (2, 3, 4),\n",
    "#     (1, 4, 3), (1, 4, 2), (2, 3), (4, 2, 0), (1, 2)\n",
    "# ]\n",
    "ls_equal = [(1, 0, 4),\n",
    " (4, 1, 3, 0),\n",
    " (2, 1, 4, 0, 3),\n",
    " (3, 2, 0, 4, 1),\n",
    " (0, 1, 4, 3, 2),\n",
    " (4, 1, 2, 3, 0),\n",
    " (3, 4, 2),\n",
    " (1, 3, 4, 0),\n",
    " (4, 0, 2, 3, 1),\n",
    " (4, 0, 1, 2),\n",
    " (2, 0, 4, 1),\n",
    " (0, 2, 3),\n",
    " (4, 0, 3),\n",
    " (0, 1, 2),\n",
    " (2, 0, 3, 4),\n",
    " (2, 4, 3, 1),\n",
    " (1, 0, 2, 4, 3),\n",
    " (2, 4, 1, 3, 0),\n",
    " (4, 2, 3, 0),\n",
    " (1, 2, 0),\n",
    " (2, 3, 0, 4),\n",
    " (1, 0, 2),\n",
    " (2, 0, 3),\n",
    " (3, 0, 4),\n",
    " (3, 1, 4),\n",
    " (2, 1, 3, 4),\n",
    " (4, 1, 0, 2),\n",
    " (4, 2, 1, 0),\n",
    " (4, 3, 0, 2, 1),\n",
    " (2, 4, 1, 3)]\n",
    "\n",
    "#ls_equal = [(2,), (0, 2), (1, 0, 4), (2, 3), (4,), (2, 4), (3,), (0,), (1,), (4, 1), (1, 4, 0), (1, 2, 0), (4, 3), (4, 3, 0), (2, 1), (0, 3), (0, 4), (1, 4), (1, 4, 3), (4, 3, 2), (3, 1), (3, 2, 4), (2, 1, 0), (1, 0), (2, 0, 4), (3, 4, 0), (3, 4, 2), (2, 0), (4, 2, 1), (3, 2)]"
   ]
  },
  {
   "cell_type": "code",
   "execution_count": 18,
   "metadata": {},
   "outputs": [
    {
     "name": "stdout",
     "output_type": "stream",
     "text": [
      "(1,) 360.0 max 1.0 (3,) 360.0 max 1.0\n",
      "(1, 3) 3840.0 max 2.0 (2, 3) 4545.0 max 2.0\n",
      "(0, 1, 3) 45840.0 max 3.0 (1, 2, 3) 49200.0 max 3.0\n",
      "(0, 1, 2, 3) 595200.0 max 4.0 (0, 1, 3, 4) 714240.0 max 4.0\n"
     ]
    },
    {
     "data": {
      "text/plain": [
       "4.0"
      ]
     },
     "execution_count": 18,
     "metadata": {},
     "output_type": "execute_result"
    }
   ],
   "source": [
    "take_least_combi(1,ls_equal)\n",
    "take_least_combi(2,ls_equal)\n",
    "take_least_combi(3,ls_equal)\n",
    "take_least_combi(4,ls_equal)"
   ]
  },
  {
   "cell_type": "code",
   "execution_count": 10,
   "metadata": {},
   "outputs": [
    {
     "ename": "NameError",
     "evalue": "name 'ls_smaller_6' is not defined",
     "output_type": "error",
     "traceback": [
      "\u001b[0;31m---------------------------------------------------------------------------\u001b[0m",
      "\u001b[0;31mNameError\u001b[0m                                 Traceback (most recent call last)",
      "\u001b[0;32m/tmp/ipykernel_701257/1522614221.py\u001b[0m in \u001b[0;36m<cell line: 1>\u001b[0;34m()\u001b[0m\n\u001b[0;32m----> 1\u001b[0;31m \u001b[0mtake_least_combi\u001b[0m\u001b[0;34m(\u001b[0m\u001b[0;36m3\u001b[0m\u001b[0;34m,\u001b[0m\u001b[0mls_smaller_6\u001b[0m\u001b[0;34m)\u001b[0m\u001b[0;34m\u001b[0m\u001b[0;34m\u001b[0m\u001b[0m\n\u001b[0m\u001b[1;32m      2\u001b[0m \u001b[0mtake_least_combi\u001b[0m\u001b[0;34m(\u001b[0m\u001b[0;36m4\u001b[0m\u001b[0;34m,\u001b[0m\u001b[0mls_smaller_6\u001b[0m\u001b[0;34m)\u001b[0m\u001b[0;34m\u001b[0m\u001b[0;34m\u001b[0m\u001b[0m\n\u001b[1;32m      3\u001b[0m \u001b[0mtake_least_combi\u001b[0m\u001b[0;34m(\u001b[0m\u001b[0;36m5\u001b[0m\u001b[0;34m,\u001b[0m\u001b[0mls_smaller_6\u001b[0m\u001b[0;34m)\u001b[0m\u001b[0;34m\u001b[0m\u001b[0;34m\u001b[0m\u001b[0m\n\u001b[1;32m      4\u001b[0m \u001b[0mtake_least_combi\u001b[0m\u001b[0;34m(\u001b[0m\u001b[0;36m6\u001b[0m\u001b[0;34m,\u001b[0m\u001b[0mls_smaller_6\u001b[0m\u001b[0;34m)\u001b[0m\u001b[0;34m\u001b[0m\u001b[0;34m\u001b[0m\u001b[0m\n",
      "\u001b[0;31mNameError\u001b[0m: name 'ls_smaller_6' is not defined"
     ]
    }
   ],
   "source": [
    "take_least_combi(3,ls_smaller_6)\n",
    "take_least_combi(4,ls_smaller_6)\n",
    "take_least_combi(5,ls_smaller_6)\n",
    "take_least_combi(6,ls_smaller_6)"
   ]
  },
  {
   "cell_type": "code",
   "execution_count": null,
   "metadata": {},
   "outputs": [],
   "source": []
  },
  {
   "cell_type": "code",
   "execution_count": 9,
   "metadata": {},
   "outputs": [],
   "source": [
    "# Case 3\n",
    "def generate_random_case3():\n",
    "    max_appearance = 9\n",
    "    while max_appearance > 5:\n",
    "        combi_case3 = []\n",
    "        for i in range(20):\n",
    "            num_modal = random.randint(1,12)\n",
    "            ls_12_modal = list(combinations(range(12),num_modal))\n",
    "            ran_index = random.randint(0,len(ls_12_modal)-1)\n",
    "            combi_case3.append(ls_12_modal[ran_index])\n",
    "        max_appearance = take_least_combi(9,combi_case3)\n",
    "    print(combi_case3)\n",
    "    "
   ]
  },
  {
   "cell_type": "code",
   "execution_count": 10,
   "metadata": {},
   "outputs": [],
   "source": [
    "# generate_random_case3()"
   ]
  },
  {
   "cell_type": "code",
   "execution_count": 11,
   "metadata": {},
   "outputs": [
    {
     "ename": "NameError",
     "evalue": "name 'combi_case3' is not defined",
     "output_type": "error",
     "traceback": [
      "\u001b[0;31m---------------------------------------------------------------------------\u001b[0m",
      "\u001b[0;31mNameError\u001b[0m                                 Traceback (most recent call last)",
      "Cell \u001b[0;32mIn[11], line 1\u001b[0m\n\u001b[0;32m----> 1\u001b[0m take_least_combi(\u001b[39m9\u001b[39m,combi_case3)\n",
      "\u001b[0;31mNameError\u001b[0m: name 'combi_case3' is not defined"
     ]
    }
   ],
   "source": [
    "# take_least_combi(9,combi_case3)"
   ]
  },
  {
   "cell_type": "code",
   "execution_count": 12,
   "metadata": {},
   "outputs": [
    {
     "name": "stdout",
     "output_type": "stream",
     "text": [
      "(0, 2, 3, 5, 6, 7, 8, 9, 11) 4473920.0 max 5.0 (1, 2, 3, 5, 6, 7, 8, 9, 11) 5329760.0 max 5.0\n"
     ]
    },
    {
     "data": {
      "text/plain": [
       "5.0"
      ]
     },
     "execution_count": 12,
     "metadata": {},
     "output_type": "execute_result"
    }
   ],
   "source": [
    "final1_case3 = [(0, 1, 4, 5, 6, 7, 10), \n",
    "               (0, 1, 2, 3, 4, 8, 9, 10), \n",
    "               (4, 7), \n",
    "               (3, 10), \n",
    "               (0, 6, 8, 9), \n",
    "               (0, 8, 10), \n",
    "               (2, 3, 10, 11), \n",
    "               (0, 1, 3, 6, 7, 9, 10), \n",
    "               (4, 7, 8, 10), \n",
    "               (2, 10), \n",
    "               (0, 1, 2, 5, 8, 10, 11), \n",
    "               (2, 5, 11), \n",
    "               (0, 2, 6, 10), \n",
    "               (0, 4, 6, 9, 11), \n",
    "               (6, 10), \n",
    "               (0, 6, 10), \n",
    "               (0, 1, 8), \n",
    "               (1, 2, 3, 4, 8, 10, 11), \n",
    "               (2, 3, 4, 6, 7, 10, 11), \n",
    "               (3, 4, 5, 9, 10)]\n",
    "take_least_combi(9,final1_case3)"
   ]
  },
  {
   "cell_type": "code",
   "execution_count": 13,
   "metadata": {},
   "outputs": [
    {
     "name": "stdout",
     "output_type": "stream",
     "text": [
      "(2, 10, 11) 410.0 max 2.0 (2, 7, 11) 635.0 max 2.0\n"
     ]
    },
    {
     "data": {
      "text/plain": [
       "2.0"
      ]
     },
     "execution_count": 13,
     "metadata": {},
     "output_type": "execute_result"
    }
   ],
   "source": [
    "final2_case3 = [(1, 11), \n",
    "                (0, 4, 6, 7, 10), \n",
    "                (3, 6), \n",
    "                (1, 2, 3, 4), \n",
    "                (5,), \n",
    "                (0, 1, 3, 5, 6, 9, 10), \n",
    "                (1, 2, 4, 6, 8), \n",
    "                (0, 1, 6), (1, 3, 8), \n",
    "                (1, 3, 9, 10), \n",
    "                (0,), \n",
    "                (0, 3, 7, 8), \n",
    "                (1, 5, 9, 11), \n",
    "                (0, 2, 4, 5, 6, 7, 8), \n",
    "                (0, 1, 2, 5, 6, 8), \n",
    "                (4,), \n",
    "                (1, 5), \n",
    "                (3, 4, 8, 9), \n",
    "                (6, 9), \n",
    "                (0, 1, 3, 7, 8, 9, 10, 11)]\n",
    "take_least_combi(3, final2_case3)"
   ]
  },
  {
   "cell_type": "code",
   "execution_count": 14,
   "metadata": {},
   "outputs": [],
   "source": [
    "# Case 4\n",
    "def generate_random_case4():\n",
    "    max_appearance = 9\n",
    "    while max_appearance > 7:\n",
    "        combi_case3 = []\n",
    "        for i in range(20):\n",
    "            num_modal = random.randint(6,12)\n",
    "            ls_12_modal = list(combinations(range(12),num_modal))\n",
    "            ran_index = random.randint(0,len(ls_12_modal)-1)\n",
    "            combi_case3.append(ls_12_modal[ran_index])\n",
    "        max_appearance = take_least_combi(9,combi_case3)\n",
    "    print(combi_case3)"
   ]
  },
  {
   "cell_type": "code",
   "execution_count": 15,
   "metadata": {},
   "outputs": [],
   "source": [
    "# generate_random_case4()"
   ]
  },
  {
   "cell_type": "code",
   "execution_count": 16,
   "metadata": {},
   "outputs": [
    {
     "name": "stdout",
     "output_type": "stream",
     "text": [
      "(0, 1, 2, 4, 5, 6, 7, 8, 9, 11) 18860933120.0 max 8.0 (1, 2, 3, 4, 5, 6, 7, 8, 9, 11) 19129303040.0 max 8.0\n"
     ]
    },
    {
     "data": {
      "text/plain": [
       "8.0"
      ]
     },
     "execution_count": 16,
     "metadata": {},
     "output_type": "execute_result"
    }
   ],
   "source": [
    "final_case4 = [(1, 2, 3, 8, 10, 11), \n",
    "(1, 2, 5, 6, 7, 8), \n",
    "(0, 3, 4, 5, 6, 7, 8, 9, 10), \n",
    "(2, 5, 7, 9, 10, 11), \n",
    "(0, 1, 3, 4, 5, 6, 7, 8, 10, 11), \n",
    "(1, 3, 7, 9, 10, 11), \n",
    "(0, 1, 2, 3, 4, 6, 8, 9, 10, 11), \n",
    "(1, 2, 3, 5, 6, 7, 8, 10, 11), \n",
    "(0, 1, 2, 3, 4, 5, 6, 7, 9, 10), \n",
    "(2, 3, 4, 5, 7, 8, 11), \n",
    "(0, 2, 3, 4, 7, 8, 9, 10, 11), \n",
    "(0, 1, 2, 3, 5, 7, 9, 10, 11), \n",
    "(1, 3, 4, 5, 9, 10, 11), \n",
    "(0, 2, 4, 5, 6, 7, 9), \n",
    "(0, 1, 2, 4, 5, 7, 8, 10, 11), \n",
    "(1, 2, 4, 5, 6, 9), \n",
    "(0, 1, 4, 7, 9, 10), \n",
    "(0, 1, 3, 5, 6, 8, 9, 10, 11), \n",
    "(0, 3, 5, 6, 9, 10), \n",
    "(1, 2, 3, 5, 6, 7, 9)]\n",
    "take_least_combi(10,final_case4)"
   ]
  },
  {
   "cell_type": "code",
   "execution_count": 17,
   "metadata": {},
   "outputs": [
    {
     "data": {
      "text/plain": [
       "[0, 1, 2, 3, 4, 5, 6, 7, 8, 9, 10, 11]"
      ]
     },
     "execution_count": 17,
     "metadata": {},
     "output_type": "execute_result"
    }
   ],
   "source": [
    "list_testing_leads = [\n",
    "            [2, 6, 10],                         #1\n",
    "            [1, 2, 6, 10, 11],                  #2\n",
    "            [1, 2, 6, 9, 10],                   #3\n",
    "            [2, 4, 5, 9, 10, 11],               #4\n",
    "            [2, 3, 4, 5, 6, 7, 9, 10, 11],      #5\n",
    "            [2, 4, 5, 6, 7, 8, 9, 11],          #6\n",
    "            [0, 1, 2, 4, 5, 6, 7, 8, 9, 11]     #7\n",
    "        ]\n",
    "union_testing_leads = list_testing_leads[0]\n",
    "for i in range(1,len(list_testing_leads)):\n",
    "    union_testing_leads = list(set(union_testing_leads) | set(list_testing_leads[i]))\n",
    "union_testing_leads"
   ]
  }
 ],
 "metadata": {
  "kernelspec": {
   "display_name": "fmfl2",
   "language": "python",
   "name": "python3"
  },
  "language_info": {
   "codemirror_mode": {
    "name": "ipython",
    "version": 3
   },
   "file_extension": ".py",
   "mimetype": "text/x-python",
   "name": "python",
   "nbconvert_exporter": "python",
   "pygments_lexer": "ipython3",
   "version": "3.8.19"
  },
  "orig_nbformat": 4
 },
 "nbformat": 4,
 "nbformat_minor": 2
}
